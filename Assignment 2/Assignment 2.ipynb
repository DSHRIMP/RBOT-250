{
 "cells": [
  {
   "cell_type": "code",
   "execution_count": 29,
   "id": "60373393",
   "metadata": {},
   "outputs": [
    {
     "name": "stdout",
     "output_type": "stream",
     "text": [
      "Axis of motion w \n",
      " tensor([0, 0, 1])\n",
      "45 degree Rotation matrix theta \n",
      " tensor([[ 0.5253, -0.8509,  0.0000],\n",
      "        [ 0.8509,  0.5253,  0.0000],\n",
      "        [ 0.0000,  0.0000,  1.0000]])\n",
      "Exponential map of the rotation angle \n",
      " tensor([[1.1348, 0.3407, 0.0000],\n",
      "        [0.3407, 1.1348, 0.0000],\n",
      "        [0.0000, 0.0000, 2.3012]])\n"
     ]
    }
   ],
   "source": [
    "import torch\n",
    "\n",
    "\n",
    "print(\"Axis of motion w \\n\", w)\n",
    "\n",
    "#3x3 rotation matrix along z axis\n",
    "def get_rot_mat(theta):\n",
    "    theta = torch.tensor(theta)\n",
    "    return torch.tensor([[torch.cos(theta), -torch.sin(theta), 0],\n",
    "                         [torch.sin(theta), torch.cos(theta), 0],\n",
    "                          [0,           0 ,                   1]])\n",
    "\n",
    "\n",
    "def rodrigues_formula(axis, theta):\n",
    "    R = torch.eye(3) + torch.sin(theta) * axis + (1-torch.cos(theta)) * torch.dot(axis,axis)\n",
    "    return R\n",
    "\n",
    "#input 1x3 axis, rotation angle theta\n",
    "w = torch.tensor([0, 0, 1])\n",
    "\n",
    "theta = get_rot_mat(45)\n",
    "print(\"45 degree Rotation matrix theta \\n\", theta)\n",
    "\n",
    "r = rodrigues_formula(w, theta)\n",
    "print(\"Exponential map of the rotation angle \\n\", r)\n"
   ]
  },
  {
   "cell_type": "code",
   "execution_count": null,
   "id": "12a05e92",
   "metadata": {},
   "outputs": [],
   "source": []
  }
 ],
 "metadata": {
  "kernelspec": {
   "display_name": "Python 3",
   "language": "python",
   "name": "python3"
  },
  "language_info": {
   "codemirror_mode": {
    "name": "ipython",
    "version": 3
   },
   "file_extension": ".py",
   "mimetype": "text/x-python",
   "name": "python",
   "nbconvert_exporter": "python",
   "pygments_lexer": "ipython3",
   "version": "3.8.8"
  }
 },
 "nbformat": 4,
 "nbformat_minor": 5
}
